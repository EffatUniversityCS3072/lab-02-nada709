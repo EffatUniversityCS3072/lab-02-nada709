{
  "cells": [
    {
      "cell_type": "markdown",
      "id": "582fd51e",
      "metadata": {
        "id": "582fd51e"
      },
      "source": [
        "# Lab 2: numpy\n",
        "\n",
        "#### Practice Exercise 1\n",
        "\n",
        "Create the following NumPy arrays:\n",
        "1. A 1-D array called zeros having 10 elements and all the elements are set to zero.\n",
        "2. A 1-D array called vowels having the elements ‘a’, ‘e’, ‘i’, ‘o’ and ‘u’.\n",
        "3. A 2-D array called ones having 2 rows and 5 columns and all the elements are set to 1 and dtype as int.\n",
        "4. Use nested Python lists to create a 2-D array called myarray1 having 3 rows and 3 columns and store the following data: 2.7,  0,  -2,  3.4,  10.6,  0,  -19, 99.9, 13\n",
        "5. A 2-D array called myarray2 using arange() having 3 rows and 5 columns with start value = 4, step size 4 and dtype as float\n"
      ]
    },
    {
      "cell_type": "code",
      "execution_count": 45,
      "id": "9195d139",
      "metadata": {
        "colab": {
          "base_uri": "https://localhost:8080/"
        },
        "id": "9195d139",
        "outputId": "0eeed265-d121-471b-c3f0-8f46df0efd23"
      },
      "outputs": [
        {
          "output_type": "stream",
          "name": "stdout",
          "text": [
            "[0 0 0 0 0 0 0 0 0 0]\n"
          ]
        }
      ],
      "source": [
        "# 1\n",
        "import numpy as np\n",
        "zeros=np.zeros(10, dtype=int)\n",
        "print(zeros)"
      ]
    },
    {
      "cell_type": "code",
      "source": [
        "# 2\n",
        "vowels=np.array(['a', 'e', 'o', 'i', 'u'])\n",
        "print(vowels)"
      ],
      "metadata": {
        "colab": {
          "base_uri": "https://localhost:8080/"
        },
        "id": "ARa25PNGQmfq",
        "outputId": "51d5af2b-66c4-4f56-fa16-85c8489c145e"
      },
      "id": "ARa25PNGQmfq",
      "execution_count": 46,
      "outputs": [
        {
          "output_type": "stream",
          "name": "stdout",
          "text": [
            "['a' 'e' 'o' 'i' 'u']\n"
          ]
        }
      ]
    },
    {
      "cell_type": "code",
      "source": [
        "# 3\n",
        "ones= np.array([[1,1,1,1,1],[1,1,1,1,1]])\n",
        "print(ones)\n",
        "\n",
        "print(\"\")\n",
        "# or\n",
        "\n",
        "one2= np.ones(10, dtype=int).reshape(2,5)\n",
        "print(one2)"
      ],
      "metadata": {
        "colab": {
          "base_uri": "https://localhost:8080/"
        },
        "id": "KIY-WdNEQoYb",
        "outputId": "ed9efa4d-96bd-4c31-da9f-7ae545ec4b7b"
      },
      "id": "KIY-WdNEQoYb",
      "execution_count": 47,
      "outputs": [
        {
          "output_type": "stream",
          "name": "stdout",
          "text": [
            "[[1 1 1 1 1]\n",
            " [1 1 1 1 1]]\n",
            "\n",
            "[[1 1 1 1 1]\n",
            " [1 1 1 1 1]]\n"
          ]
        }
      ]
    },
    {
      "cell_type": "code",
      "source": [
        "# 4\n",
        "                       # numpy nested list means np.array\n",
        "myarray1=np.array([[2.7,  0,  -2],[3.4,  10.6,  0],[-19, 99.9, 13]]) #this is nested\n",
        "\n",
        "# or\n",
        "\n",
        "myarray1=np.array([2.7,  0,  -2, 3.4,  10.6,  0,-19, 99.9, 13]).reshape(3,3)\n",
        "print(myarray1)"
      ],
      "metadata": {
        "colab": {
          "base_uri": "https://localhost:8080/"
        },
        "id": "evOkXk8iQqVG",
        "outputId": "92d24441-6975-4b89-c03b-f2df59c7836a"
      },
      "id": "evOkXk8iQqVG",
      "execution_count": 48,
      "outputs": [
        {
          "output_type": "stream",
          "name": "stdout",
          "text": [
            "[[  2.7   0.   -2. ]\n",
            " [  3.4  10.6   0. ]\n",
            " [-19.   99.9  13. ]]\n"
          ]
        }
      ]
    },
    {
      "cell_type": "code",
      "source": [
        "# 5\n",
        "           #start velue+ total value times step\n",
        "myarray2=np.arange(4,4+15*4,4, dtype= float).reshape(3,5)\n",
        "print(myarray2)"
      ],
      "metadata": {
        "colab": {
          "base_uri": "https://localhost:8080/"
        },
        "id": "0aAfdWb-Qt55",
        "outputId": "537923a9-6e11-4b4e-d43c-82c0d4b89ea9"
      },
      "id": "0aAfdWb-Qt55",
      "execution_count": 49,
      "outputs": [
        {
          "output_type": "stream",
          "name": "stdout",
          "text": [
            "[[ 4.  8. 12. 16. 20.]\n",
            " [24. 28. 32. 36. 40.]\n",
            " [44. 48. 52. 56. 60.]]\n"
          ]
        }
      ]
    },
    {
      "cell_type": "markdown",
      "id": "2d3fc3a8",
      "metadata": {
        "id": "2d3fc3a8"
      },
      "source": [
        "Using the arrays created in Question above, write NumPy commands for the following:\n",
        "1. Find the dimensions, shape, size, data type of the items and itemsize of arrays zeros, vowels, ones, myarray1 and myarray2.\n",
        "2. Reshape the array ones to have all the 10 elements in a single row.\n",
        "3. Display the 2nd and 3rd element of the array vowels.\n",
        "4. Display all elements in the 2nd and 3rd row of the array myarray1.\n",
        "5. Display the elements in the 1st and 2nd column of the array myarray1.\n",
        "6. Display the elements in the 1st column of the 2nd and 3rd row of the array myarray1.\n",
        "7. Reverse the array of vowels."
      ]
    },
    {
      "cell_type": "code",
      "source": [
        "# 1\n",
        "# itemsize how many bytes ... for each element in the arrray takes 8 bytes\n",
        "print(\"Zeros: \" + str(zeros.shape), zeros.size, zeros.ndim, zeros.dtype, zeros.itemsize)\n",
        "\n",
        "\n",
        "print(\"Ones: \" + str(ones.shape), ones.size , ones.ndim, ones.dtype, ones.itemsize)\n",
        "\n",
        "print(\"myArray1: \" + str(myarray1.shape), myarray1.size , myarray1.ndim, myarray1.dtype, myarray1.itemsize)\n",
        "\n",
        "print(\"myArra2: \" + str(myarray2.shape), myarray2.size , myarray2.ndim, myarray2.dtype, myarray2.itemsize)"
      ],
      "metadata": {
        "colab": {
          "base_uri": "https://localhost:8080/"
        },
        "id": "yT8ltCbRSdjV",
        "outputId": "68efe636-503d-4030-85cc-f254aa5f73ad"
      },
      "id": "yT8ltCbRSdjV",
      "execution_count": 50,
      "outputs": [
        {
          "output_type": "stream",
          "name": "stdout",
          "text": [
            "Zeros: (10,) 10 1 int64 8\n",
            "Ones: (2, 5) 10 2 int64 8\n",
            "myArray1: (3, 3) 9 2 float64 8\n",
            "myArra2: (3, 5) 15 2 float64 8\n"
          ]
        }
      ]
    },
    {
      "cell_type": "code",
      "source": [
        "# 2\n",
        "ones=ones.reshape(1,10)\n",
        "ones"
      ],
      "metadata": {
        "colab": {
          "base_uri": "https://localhost:8080/"
        },
        "id": "IZQiCV_-SzW4",
        "outputId": "4b7a4390-aee5-42b0-e3c3-2145fb1c9349"
      },
      "id": "IZQiCV_-SzW4",
      "execution_count": 51,
      "outputs": [
        {
          "output_type": "execute_result",
          "data": {
            "text/plain": [
              "array([[1, 1, 1, 1, 1, 1, 1, 1, 1, 1]])"
            ]
          },
          "metadata": {},
          "execution_count": 51
        }
      ]
    },
    {
      "cell_type": "code",
      "source": [
        "# 3\n",
        "vowels[1:3]"
      ],
      "metadata": {
        "colab": {
          "base_uri": "https://localhost:8080/"
        },
        "id": "2f6qFXKSS2W1",
        "outputId": "aa6f4351-d6cd-4154-8f0c-67da86c22ffc"
      },
      "id": "2f6qFXKSS2W1",
      "execution_count": 52,
      "outputs": [
        {
          "output_type": "execute_result",
          "data": {
            "text/plain": [
              "array(['e', 'o'], dtype='<U1')"
            ]
          },
          "metadata": {},
          "execution_count": 52
        }
      ]
    },
    {
      "cell_type": "code",
      "source": [
        "# 4\n",
        "myarray1[1:3,]#[row:col]\n",
        "myarray1[1:3,0:2]"
      ],
      "metadata": {
        "colab": {
          "base_uri": "https://localhost:8080/"
        },
        "id": "ldnGVkMRS4Rn",
        "outputId": "341ba134-27ed-44b2-8efa-0e0025a8ea95"
      },
      "id": "ldnGVkMRS4Rn",
      "execution_count": 53,
      "outputs": [
        {
          "output_type": "execute_result",
          "data": {
            "text/plain": [
              "array([[  3.4,  10.6],\n",
              "       [-19. ,  99.9]])"
            ]
          },
          "metadata": {},
          "execution_count": 53
        }
      ]
    },
    {
      "cell_type": "code",
      "source": [
        "# 5\n",
        "myarray1[:, 0:2]#all rows, specific cols"
      ],
      "metadata": {
        "colab": {
          "base_uri": "https://localhost:8080/"
        },
        "id": "jGSmOe65S7Cw",
        "outputId": "a16740e0-ca27-48d5-f916-66f119ac55c9"
      },
      "id": "jGSmOe65S7Cw",
      "execution_count": 54,
      "outputs": [
        {
          "output_type": "execute_result",
          "data": {
            "text/plain": [
              "array([[  2.7,   0. ],\n",
              "       [  3.4,  10.6],\n",
              "       [-19. ,  99.9]])"
            ]
          },
          "metadata": {},
          "execution_count": 54
        }
      ]
    },
    {
      "cell_type": "code",
      "source": [
        "# 6\n",
        "myarray1[ 1:3 , 0:1 ]"
      ],
      "metadata": {
        "colab": {
          "base_uri": "https://localhost:8080/"
        },
        "id": "CtiaQnWQS8JU",
        "outputId": "58b27ca4-727d-41b0-9689-bf2a2c9be9ec"
      },
      "id": "CtiaQnWQS8JU",
      "execution_count": 55,
      "outputs": [
        {
          "output_type": "execute_result",
          "data": {
            "text/plain": [
              "array([[  3.4],\n",
              "       [-19. ]])"
            ]
          },
          "metadata": {},
          "execution_count": 55
        }
      ]
    },
    {
      "cell_type": "code",
      "execution_count": 56,
      "id": "fc69c3db",
      "metadata": {
        "colab": {
          "base_uri": "https://localhost:8080/"
        },
        "id": "fc69c3db",
        "outputId": "017e783e-6549-47f6-8d3d-906993dc0a72"
      },
      "outputs": [
        {
          "output_type": "execute_result",
          "data": {
            "text/plain": [
              "array(['u', 'i', 'o', 'e', 'a'], dtype='<U1')"
            ]
          },
          "metadata": {},
          "execution_count": 56
        }
      ],
      "source": [
        "# 7\n",
        "vowels[:: -1]\n",
        "# from the begainning to the end and the step= -1\n",
        "# or use reverse\n",
        "\n",
        "# abc=np.array(['a', 'b', 'c', 'd', 'e'])\n",
        "# abc[:: -1]"
      ]
    },
    {
      "cell_type": "markdown",
      "id": "e1edb3bb",
      "metadata": {
        "id": "e1edb3bb"
      },
      "source": [
        "Using the arrays created in Question above, write NumPy commands for the following:\n",
        "1. Divide all elements of array ones by 3.\n",
        "2. Add the arrays myarray1 and myarray2.\n",
        "3. Subtract myarray1 from myarray2 and store the result in a new array.\n",
        "4. Multiply myarray1 and myarray2 elementwise.\n",
        "5. Do the matrix multiplication of myarray1 and myarray2 and store the result in a new array myarray3.\n",
        "6. Divide myarray1 by myarray2.\n",
        "7. Find the cube of all elements of myarray1 and divide the resulting array by 2.\n",
        "8. Find the square root of all elements of myarray2   and divide the resulting array by 2. The result  should be rounded to two places of decimals."
      ]
    },
    {
      "cell_type": "code",
      "source": [
        "# 1\n",
        "ones/3"
      ],
      "metadata": {
        "colab": {
          "base_uri": "https://localhost:8080/"
        },
        "id": "VfLcBAc6U2Es",
        "outputId": "c2fbd4f3-7a27-478e-e48a-93131de69169"
      },
      "id": "VfLcBAc6U2Es",
      "execution_count": 57,
      "outputs": [
        {
          "output_type": "execute_result",
          "data": {
            "text/plain": [
              "array([[0.33333333, 0.33333333, 0.33333333, 0.33333333, 0.33333333,\n",
              "        0.33333333, 0.33333333, 0.33333333, 0.33333333, 0.33333333]])"
            ]
          },
          "metadata": {},
          "execution_count": 57
        }
      ]
    },
    {
      "cell_type": "code",
      "source": [
        "# 2\n",
        "myarray2[:, :3] +myarray1"
      ],
      "metadata": {
        "colab": {
          "base_uri": "https://localhost:8080/"
        },
        "id": "PD2g0e01U4WU",
        "outputId": "367e66f8-9056-4397-9337-52d01ed73e17"
      },
      "id": "PD2g0e01U4WU",
      "execution_count": 58,
      "outputs": [
        {
          "output_type": "execute_result",
          "data": {
            "text/plain": [
              "array([[  6.7,   8. ,  10. ],\n",
              "       [ 27.4,  38.6,  32. ],\n",
              "       [ 25. , 147.9,  65. ]])"
            ]
          },
          "metadata": {},
          "execution_count": 58
        }
      ]
    },
    {
      "cell_type": "code",
      "source": [
        "# 3\n",
        "sliced_array2 = myarray2[:, :3]\n",
        "result = myarray1 - sliced_array2\n",
        "result"
      ],
      "metadata": {
        "colab": {
          "base_uri": "https://localhost:8080/"
        },
        "id": "u3KRIzozVTQz",
        "outputId": "e42a8981-03dc-41a8-8dd7-a535336c154f"
      },
      "id": "u3KRIzozVTQz",
      "execution_count": 59,
      "outputs": [
        {
          "output_type": "execute_result",
          "data": {
            "text/plain": [
              "array([[ -1.3,  -8. , -14. ],\n",
              "       [-20.6, -17.4, -32. ],\n",
              "       [-63. ,  51.9, -39. ]])"
            ]
          },
          "metadata": {},
          "execution_count": 59
        }
      ]
    },
    {
      "cell_type": "code",
      "source": [
        "# 4\n",
        "# Slice myarray2 to match the shape of myarray1\n",
        "sliced_array2 = myarray2[:, :3]\n",
        "\n",
        "# Perform element-wise multiplication\n",
        "elementwise_multiplication = myarray1 * sliced_array2\n",
        "print(elementwise_multiplication)\n"
      ],
      "metadata": {
        "colab": {
          "base_uri": "https://localhost:8080/"
        },
        "id": "4XUu62TtWJVO",
        "outputId": "fa15741c-8176-4072-90c7-d395efd6c942"
      },
      "id": "4XUu62TtWJVO",
      "execution_count": 60,
      "outputs": [
        {
          "output_type": "stream",
          "name": "stdout",
          "text": [
            "[[  10.8    0.   -24. ]\n",
            " [  81.6  296.8    0. ]\n",
            " [-836.  4795.2  676. ]]\n"
          ]
        }
      ]
    },
    {
      "cell_type": "code",
      "source": [
        "# 5\n",
        "# Perform matrix multiplication\n",
        "myarray3 = np.dot(myarray1, myarray2)\n",
        "print(myarray3)\n"
      ],
      "metadata": {
        "colab": {
          "base_uri": "https://localhost:8080/"
        },
        "id": "Bpetj3ejWRK0",
        "outputId": "7c5b1da2-796a-4222-86b3-7d6c1fddd78f"
      },
      "id": "Bpetj3ejWRK0",
      "execution_count": 61,
      "outputs": [
        {
          "output_type": "stream",
          "name": "stdout",
          "text": [
            "[[ -77.2  -74.4  -71.6  -68.8  -66. ]\n",
            " [ 268.   324.   380.   436.   492. ]\n",
            " [2893.6 3269.2 3644.8 4020.4 4396. ]]\n"
          ]
        }
      ]
    },
    {
      "cell_type": "code",
      "source": [
        "# 6\n",
        "# Perform element-wise division\n",
        "elementwise_division = myarray1 / sliced_array2\n",
        "print(elementwise_division)\n"
      ],
      "metadata": {
        "colab": {
          "base_uri": "https://localhost:8080/"
        },
        "id": "UbotsClFWXjv",
        "outputId": "1a4ee105-4485-4d1e-a9ef-3d44be51e004"
      },
      "id": "UbotsClFWXjv",
      "execution_count": 62,
      "outputs": [
        {
          "output_type": "stream",
          "name": "stdout",
          "text": [
            "[[ 0.675       0.         -0.16666667]\n",
            " [ 0.14166667  0.37857143  0.        ]\n",
            " [-0.43181818  2.08125     0.25      ]]\n"
          ]
        }
      ]
    },
    {
      "cell_type": "code",
      "source": [
        "# 7\n",
        "( myarray1**3 )/2"
      ],
      "metadata": {
        "colab": {
          "base_uri": "https://localhost:8080/"
        },
        "id": "LdBQ0fKKU7Pw",
        "outputId": "47787f6e-816f-4d49-dfca-3092d9d6c763"
      },
      "id": "LdBQ0fKKU7Pw",
      "execution_count": 63,
      "outputs": [
        {
          "output_type": "execute_result",
          "data": {
            "text/plain": [
              "array([[ 9.841500e+00,  0.000000e+00, -4.000000e+00],\n",
              "       [ 1.965200e+01,  5.955080e+02,  0.000000e+00],\n",
              "       [-3.429500e+03,  4.985015e+05,  1.098500e+03]])"
            ]
          },
          "metadata": {},
          "execution_count": 63
        }
      ]
    },
    {
      "cell_type": "code",
      "execution_count": 64,
      "id": "3c933386",
      "metadata": {
        "colab": {
          "base_uri": "https://localhost:8080/"
        },
        "id": "3c933386",
        "outputId": "35ab7654-e485-43f7-fe0a-3212e1545fbc"
      },
      "outputs": [
        {
          "output_type": "execute_result",
          "data": {
            "text/plain": [
              "array([[1., 1., 2., 2., 2.],\n",
              "       [2., 3., 3., 3., 3.],\n",
              "       [3., 3., 4., 4., 4.]])"
            ]
          },
          "metadata": {},
          "execution_count": 64
        }
      ],
      "source": [
        "\n",
        "# 8\n",
        "np.round(np.sqrt(myarray2)/2)"
      ]
    },
    {
      "cell_type": "markdown",
      "id": "d8aafc74",
      "metadata": {
        "id": "d8aafc74"
      },
      "source": [
        "Using the arrays created above, write NumPy commands for the following:\n",
        "1. Find the transpose of ones and myarray2.\n",
        "2. Sort the array vowels in reverse.\n",
        "3. Sort the array myarray1 such that it brings the lowest value of the column in the first row and so on."
      ]
    },
    {
      "cell_type": "code",
      "execution_count": 65,
      "id": "573c6506",
      "metadata": {
        "colab": {
          "base_uri": "https://localhost:8080/"
        },
        "id": "573c6506",
        "outputId": "31c450bf-e03b-4d3f-9038-dfdb591f36cf"
      },
      "outputs": [
        {
          "output_type": "stream",
          "name": "stdout",
          "text": [
            "[[ 4. 24. 44.]\n",
            " [ 8. 28. 48.]\n",
            " [12. 32. 52.]\n",
            " [16. 36. 56.]\n",
            " [20. 40. 60.]]\n",
            "['u', 'o', 'i', 'e', 'a']\n",
            "[[-19.    0.   -2. ]\n",
            " [  2.7  10.6   0. ]\n",
            " [  3.4  99.9  13. ]]\n"
          ]
        }
      ],
      "source": [
        "# Write your answer here\n",
        "\n",
        "# 1\n",
        "print(myarray2.T)\n",
        "# or\n",
        "# print(np.transpose(myarray2))\n",
        "\n",
        "# 2\n",
        "sorted_vowels = sorted(vowels, reverse=True)\n",
        "print(sorted_vowels)\n",
        "\n",
        "# 3\n",
        "sorted_array = np.sort(myarray1, axis=0)\n",
        "print(sorted_array)\n",
        "\n",
        "\n",
        "# np.sort(myarray1)#sort row by row, but col no\n",
        "# np.sort(myarray1, 1)#sort by row\n",
        "# np.sort(myarray1, 0)#sort by col\n",
        "\n",
        "\n"
      ]
    },
    {
      "cell_type": "markdown",
      "id": "93546856",
      "metadata": {
        "id": "93546856"
      },
      "source": [
        "Create a 2-D array called myarray4 using arange() having 14 rows and 3 columns with start value = -1, step size 0.25 having. Split this array row wise into 3 equal parts and print the result."
      ]
    },
    {
      "cell_type": "code",
      "execution_count": 66,
      "id": "441dd934",
      "metadata": {
        "colab": {
          "base_uri": "https://localhost:8080/"
        },
        "id": "441dd934",
        "outputId": "27b37912-52a1-40f9-f850-b106eacacff6"
      },
      "outputs": [
        {
          "output_type": "stream",
          "name": "stdout",
          "text": [
            "42\n",
            "\n",
            "[array([[-1.  , -0.75, -0.5 ],\n",
            "       [-0.25,  0.  ,  0.25],\n",
            "       [ 0.5 ,  0.75,  1.  ],\n",
            "       [ 1.25,  1.5 ,  1.75],\n",
            "       [ 2.  ,  2.25,  2.5 ]]), array([[2.75, 3.  , 3.25],\n",
            "       [3.5 , 3.75, 4.  ],\n",
            "       [4.25, 4.5 , 4.75],\n",
            "       [5.  , 5.25, 5.5 ],\n",
            "       [5.75, 6.  , 6.25]]), array([[6.5 , 6.75, 7.  ],\n",
            "       [7.25, 7.5 , 7.75],\n",
            "       [8.  , 8.25, 8.5 ],\n",
            "       [8.75, 9.  , 9.25]])]\n"
          ]
        }
      ],
      "source": [
        "# -1 + step size*num of elements\n",
        "myarray4 = np.arange(-1, -1 + 0.25*42 , 0.25).reshape(14, 3)\n",
        "print(myarray4.size)\n",
        "\n",
        "print(\"\")\n",
        "\n",
        "print(np.array_split(myarray4,3)) #3 arrays"
      ]
    },
    {
      "cell_type": "markdown",
      "id": "c8cdbaff",
      "metadata": {
        "id": "c8cdbaff"
      },
      "source": [
        "Using the myarray4 created in the above questions, write commands for the following:\n",
        "1. Find the sum of all elements.\n",
        "2. Find the sum of all elements row wise\n",
        "3. Find the sum of all elements column wise.\n",
        "4. Find the max of all elements.\n",
        "5. Find the min of all elements in each row.\n",
        "6. Find the mean of all elements in each row.\n",
        "7. Find the standard deviation column wise."
      ]
    },
    {
      "cell_type": "code",
      "execution_count": 67,
      "id": "66af8b55",
      "metadata": {
        "colab": {
          "base_uri": "https://localhost:8080/"
        },
        "id": "66af8b55",
        "outputId": "9a9c3be3-1c93-4251-e263-9e0b02281c53"
      },
      "outputs": [
        {
          "output_type": "stream",
          "name": "stdout",
          "text": [
            "173.25\n"
          ]
        },
        {
          "output_type": "execute_result",
          "data": {
            "text/plain": [
              "array([3.02334666, 3.02334666, 3.02334666])"
            ]
          },
          "metadata": {},
          "execution_count": 67
        }
      ],
      "source": [
        "#1\n",
        "sum = np.sum(myarray4)\n",
        "print(sum)\n",
        "\n",
        "# 2\n",
        "rowise_sum = np.sum(myarray4, axis=1)\n",
        "rowise_sum\n",
        "\n",
        "# 3\n",
        "colwise_sum = np.sum(myarray4, axis=0)\n",
        "colwise_sum\n",
        "\n",
        "# 4\n",
        "colwise_sum = np.sum(myarray4, axis=0)\n",
        "colwise_sum\n",
        "\n",
        "# 5\n",
        "min_row = np.min(myarray4, axis=1)\n",
        "min_row\n",
        "\n",
        "# 6\n",
        "mean_row = np.mean(myarray4, axis=1)\n",
        "mean_row\n",
        "\n",
        "# 7\n",
        "std_col = np.std(myarray4, axis=0)\n",
        "std_col"
      ]
    },
    {
      "cell_type": "markdown",
      "id": "8d7e1dca",
      "metadata": {
        "id": "8d7e1dca"
      },
      "source": [
        "#### Practice Exercise 2\n",
        "Read the coordinates of the capital cities of the world from the country-capital-lat-long-population.csv file. Use NumPy to print the name and coordinates of the capital city closest to the Saudi Arabia capital - Riyadh.\n",
        "\n",
        "Note that:\n",
        "\n",
        "1. The Country Name for Saudi Arabia is given as Saudi Arabia in the data.\n",
        "2. The ‘closeness’ of capital cities from the Saudi Arabia capital is based on the Euclidean distance of their coordinates to those of the Saudi Arabia capital.\n",
        "\n",
        "\n",
        "Hints:\n",
        "\n",
        "1. Use read_html() from the Pandas library to read the table.\n",
        "2. Use the to_numpy() function of the Pandas DataFrame class to convert a DataFrame to a Numpy array\n",
        "3. Use broadcasting to compute the euclidean distance of capital cities from Riyadh."
      ]
    },
    {
      "cell_type": "code",
      "execution_count": 68,
      "id": "ab6b9725",
      "metadata": {
        "colab": {
          "base_uri": "https://localhost:8080/",
          "height": 206
        },
        "id": "ab6b9725",
        "outputId": "947063d7-e7d2-4266-95c9-bb16f7e26176"
      },
      "outputs": [
        {
          "output_type": "execute_result",
          "data": {
            "text/plain": [
              "          Country           Capital City  Latitude  Longitude  Population  \\\n",
              "0     Afghanistan                  Kabul   34.5289    69.1725     4011770   \n",
              "1         Albania        Tiranë (Tirana)   41.3275    19.8189      475577   \n",
              "2         Algeria  El Djazaïr  (Algiers)   36.7525     3.0420     2693542   \n",
              "3  American Samoa              Pago Pago  -14.2781  -170.7025       48526   \n",
              "4         Andorra       Andorra la Vella   42.5078     1.5211       22614   \n",
              "\n",
              "  Capital Type  \n",
              "0      Capital  \n",
              "1      Capital  \n",
              "2      Capital  \n",
              "3      Capital  \n",
              "4      Capital  "
            ],
            "text/html": [
              "\n",
              "  <div id=\"df-a928943a-8202-4aad-a40c-5376a0bced76\" class=\"colab-df-container\">\n",
              "    <div>\n",
              "<style scoped>\n",
              "    .dataframe tbody tr th:only-of-type {\n",
              "        vertical-align: middle;\n",
              "    }\n",
              "\n",
              "    .dataframe tbody tr th {\n",
              "        vertical-align: top;\n",
              "    }\n",
              "\n",
              "    .dataframe thead th {\n",
              "        text-align: right;\n",
              "    }\n",
              "</style>\n",
              "<table border=\"1\" class=\"dataframe\">\n",
              "  <thead>\n",
              "    <tr style=\"text-align: right;\">\n",
              "      <th></th>\n",
              "      <th>Country</th>\n",
              "      <th>Capital City</th>\n",
              "      <th>Latitude</th>\n",
              "      <th>Longitude</th>\n",
              "      <th>Population</th>\n",
              "      <th>Capital Type</th>\n",
              "    </tr>\n",
              "  </thead>\n",
              "  <tbody>\n",
              "    <tr>\n",
              "      <th>0</th>\n",
              "      <td>Afghanistan</td>\n",
              "      <td>Kabul</td>\n",
              "      <td>34.5289</td>\n",
              "      <td>69.1725</td>\n",
              "      <td>4011770</td>\n",
              "      <td>Capital</td>\n",
              "    </tr>\n",
              "    <tr>\n",
              "      <th>1</th>\n",
              "      <td>Albania</td>\n",
              "      <td>Tiranë (Tirana)</td>\n",
              "      <td>41.3275</td>\n",
              "      <td>19.8189</td>\n",
              "      <td>475577</td>\n",
              "      <td>Capital</td>\n",
              "    </tr>\n",
              "    <tr>\n",
              "      <th>2</th>\n",
              "      <td>Algeria</td>\n",
              "      <td>El Djazaïr  (Algiers)</td>\n",
              "      <td>36.7525</td>\n",
              "      <td>3.0420</td>\n",
              "      <td>2693542</td>\n",
              "      <td>Capital</td>\n",
              "    </tr>\n",
              "    <tr>\n",
              "      <th>3</th>\n",
              "      <td>American Samoa</td>\n",
              "      <td>Pago Pago</td>\n",
              "      <td>-14.2781</td>\n",
              "      <td>-170.7025</td>\n",
              "      <td>48526</td>\n",
              "      <td>Capital</td>\n",
              "    </tr>\n",
              "    <tr>\n",
              "      <th>4</th>\n",
              "      <td>Andorra</td>\n",
              "      <td>Andorra la Vella</td>\n",
              "      <td>42.5078</td>\n",
              "      <td>1.5211</td>\n",
              "      <td>22614</td>\n",
              "      <td>Capital</td>\n",
              "    </tr>\n",
              "  </tbody>\n",
              "</table>\n",
              "</div>\n",
              "    <div class=\"colab-df-buttons\">\n",
              "\n",
              "  <div class=\"colab-df-container\">\n",
              "    <button class=\"colab-df-convert\" onclick=\"convertToInteractive('df-a928943a-8202-4aad-a40c-5376a0bced76')\"\n",
              "            title=\"Convert this dataframe to an interactive table.\"\n",
              "            style=\"display:none;\">\n",
              "\n",
              "  <svg xmlns=\"http://www.w3.org/2000/svg\" height=\"24px\" viewBox=\"0 -960 960 960\">\n",
              "    <path d=\"M120-120v-720h720v720H120Zm60-500h600v-160H180v160Zm220 220h160v-160H400v160Zm0 220h160v-160H400v160ZM180-400h160v-160H180v160Zm440 0h160v-160H620v160ZM180-180h160v-160H180v160Zm440 0h160v-160H620v160Z\"/>\n",
              "  </svg>\n",
              "    </button>\n",
              "\n",
              "  <style>\n",
              "    .colab-df-container {\n",
              "      display:flex;\n",
              "      gap: 12px;\n",
              "    }\n",
              "\n",
              "    .colab-df-convert {\n",
              "      background-color: #E8F0FE;\n",
              "      border: none;\n",
              "      border-radius: 50%;\n",
              "      cursor: pointer;\n",
              "      display: none;\n",
              "      fill: #1967D2;\n",
              "      height: 32px;\n",
              "      padding: 0 0 0 0;\n",
              "      width: 32px;\n",
              "    }\n",
              "\n",
              "    .colab-df-convert:hover {\n",
              "      background-color: #E2EBFA;\n",
              "      box-shadow: 0px 1px 2px rgba(60, 64, 67, 0.3), 0px 1px 3px 1px rgba(60, 64, 67, 0.15);\n",
              "      fill: #174EA6;\n",
              "    }\n",
              "\n",
              "    .colab-df-buttons div {\n",
              "      margin-bottom: 4px;\n",
              "    }\n",
              "\n",
              "    [theme=dark] .colab-df-convert {\n",
              "      background-color: #3B4455;\n",
              "      fill: #D2E3FC;\n",
              "    }\n",
              "\n",
              "    [theme=dark] .colab-df-convert:hover {\n",
              "      background-color: #434B5C;\n",
              "      box-shadow: 0px 1px 3px 1px rgba(0, 0, 0, 0.15);\n",
              "      filter: drop-shadow(0px 1px 2px rgba(0, 0, 0, 0.3));\n",
              "      fill: #FFFFFF;\n",
              "    }\n",
              "  </style>\n",
              "\n",
              "    <script>\n",
              "      const buttonEl =\n",
              "        document.querySelector('#df-a928943a-8202-4aad-a40c-5376a0bced76 button.colab-df-convert');\n",
              "      buttonEl.style.display =\n",
              "        google.colab.kernel.accessAllowed ? 'block' : 'none';\n",
              "\n",
              "      async function convertToInteractive(key) {\n",
              "        const element = document.querySelector('#df-a928943a-8202-4aad-a40c-5376a0bced76');\n",
              "        const dataTable =\n",
              "          await google.colab.kernel.invokeFunction('convertToInteractive',\n",
              "                                                    [key], {});\n",
              "        if (!dataTable) return;\n",
              "\n",
              "        const docLinkHtml = 'Like what you see? Visit the ' +\n",
              "          '<a target=\"_blank\" href=https://colab.research.google.com/notebooks/data_table.ipynb>data table notebook</a>'\n",
              "          + ' to learn more about interactive tables.';\n",
              "        element.innerHTML = '';\n",
              "        dataTable['output_type'] = 'display_data';\n",
              "        await google.colab.output.renderOutput(dataTable, element);\n",
              "        const docLink = document.createElement('div');\n",
              "        docLink.innerHTML = docLinkHtml;\n",
              "        element.appendChild(docLink);\n",
              "      }\n",
              "    </script>\n",
              "  </div>\n",
              "\n",
              "\n",
              "<div id=\"df-c9e31f09-1116-4fec-8550-a769f4792664\">\n",
              "  <button class=\"colab-df-quickchart\" onclick=\"quickchart('df-c9e31f09-1116-4fec-8550-a769f4792664')\"\n",
              "            title=\"Suggest charts\"\n",
              "            style=\"display:none;\">\n",
              "\n",
              "<svg xmlns=\"http://www.w3.org/2000/svg\" height=\"24px\"viewBox=\"0 0 24 24\"\n",
              "     width=\"24px\">\n",
              "    <g>\n",
              "        <path d=\"M19 3H5c-1.1 0-2 .9-2 2v14c0 1.1.9 2 2 2h14c1.1 0 2-.9 2-2V5c0-1.1-.9-2-2-2zM9 17H7v-7h2v7zm4 0h-2V7h2v10zm4 0h-2v-4h2v4z\"/>\n",
              "    </g>\n",
              "</svg>\n",
              "  </button>\n",
              "\n",
              "<style>\n",
              "  .colab-df-quickchart {\n",
              "      --bg-color: #E8F0FE;\n",
              "      --fill-color: #1967D2;\n",
              "      --hover-bg-color: #E2EBFA;\n",
              "      --hover-fill-color: #174EA6;\n",
              "      --disabled-fill-color: #AAA;\n",
              "      --disabled-bg-color: #DDD;\n",
              "  }\n",
              "\n",
              "  [theme=dark] .colab-df-quickchart {\n",
              "      --bg-color: #3B4455;\n",
              "      --fill-color: #D2E3FC;\n",
              "      --hover-bg-color: #434B5C;\n",
              "      --hover-fill-color: #FFFFFF;\n",
              "      --disabled-bg-color: #3B4455;\n",
              "      --disabled-fill-color: #666;\n",
              "  }\n",
              "\n",
              "  .colab-df-quickchart {\n",
              "    background-color: var(--bg-color);\n",
              "    border: none;\n",
              "    border-radius: 50%;\n",
              "    cursor: pointer;\n",
              "    display: none;\n",
              "    fill: var(--fill-color);\n",
              "    height: 32px;\n",
              "    padding: 0;\n",
              "    width: 32px;\n",
              "  }\n",
              "\n",
              "  .colab-df-quickchart:hover {\n",
              "    background-color: var(--hover-bg-color);\n",
              "    box-shadow: 0 1px 2px rgba(60, 64, 67, 0.3), 0 1px 3px 1px rgba(60, 64, 67, 0.15);\n",
              "    fill: var(--button-hover-fill-color);\n",
              "  }\n",
              "\n",
              "  .colab-df-quickchart-complete:disabled,\n",
              "  .colab-df-quickchart-complete:disabled:hover {\n",
              "    background-color: var(--disabled-bg-color);\n",
              "    fill: var(--disabled-fill-color);\n",
              "    box-shadow: none;\n",
              "  }\n",
              "\n",
              "  .colab-df-spinner {\n",
              "    border: 2px solid var(--fill-color);\n",
              "    border-color: transparent;\n",
              "    border-bottom-color: var(--fill-color);\n",
              "    animation:\n",
              "      spin 1s steps(1) infinite;\n",
              "  }\n",
              "\n",
              "  @keyframes spin {\n",
              "    0% {\n",
              "      border-color: transparent;\n",
              "      border-bottom-color: var(--fill-color);\n",
              "      border-left-color: var(--fill-color);\n",
              "    }\n",
              "    20% {\n",
              "      border-color: transparent;\n",
              "      border-left-color: var(--fill-color);\n",
              "      border-top-color: var(--fill-color);\n",
              "    }\n",
              "    30% {\n",
              "      border-color: transparent;\n",
              "      border-left-color: var(--fill-color);\n",
              "      border-top-color: var(--fill-color);\n",
              "      border-right-color: var(--fill-color);\n",
              "    }\n",
              "    40% {\n",
              "      border-color: transparent;\n",
              "      border-right-color: var(--fill-color);\n",
              "      border-top-color: var(--fill-color);\n",
              "    }\n",
              "    60% {\n",
              "      border-color: transparent;\n",
              "      border-right-color: var(--fill-color);\n",
              "    }\n",
              "    80% {\n",
              "      border-color: transparent;\n",
              "      border-right-color: var(--fill-color);\n",
              "      border-bottom-color: var(--fill-color);\n",
              "    }\n",
              "    90% {\n",
              "      border-color: transparent;\n",
              "      border-bottom-color: var(--fill-color);\n",
              "    }\n",
              "  }\n",
              "</style>\n",
              "\n",
              "  <script>\n",
              "    async function quickchart(key) {\n",
              "      const quickchartButtonEl =\n",
              "        document.querySelector('#' + key + ' button');\n",
              "      quickchartButtonEl.disabled = true;  // To prevent multiple clicks.\n",
              "      quickchartButtonEl.classList.add('colab-df-spinner');\n",
              "      try {\n",
              "        const charts = await google.colab.kernel.invokeFunction(\n",
              "            'suggestCharts', [key], {});\n",
              "      } catch (error) {\n",
              "        console.error('Error during call to suggestCharts:', error);\n",
              "      }\n",
              "      quickchartButtonEl.classList.remove('colab-df-spinner');\n",
              "      quickchartButtonEl.classList.add('colab-df-quickchart-complete');\n",
              "    }\n",
              "    (() => {\n",
              "      let quickchartButtonEl =\n",
              "        document.querySelector('#df-c9e31f09-1116-4fec-8550-a769f4792664 button');\n",
              "      quickchartButtonEl.style.display =\n",
              "        google.colab.kernel.accessAllowed ? 'block' : 'none';\n",
              "    })();\n",
              "  </script>\n",
              "</div>\n",
              "\n",
              "    </div>\n",
              "  </div>\n"
            ],
            "application/vnd.google.colaboratory.intrinsic+json": {
              "type": "dataframe",
              "variable_name": "capitals",
              "summary": "{\n  \"name\": \"capitals\",\n  \"rows\": 234,\n  \"fields\": [\n    {\n      \"column\": \"Country\",\n      \"properties\": {\n        \"dtype\": \"string\",\n        \"num_unique_values\": 233,\n        \"samples\": [\n          \"Greece\",\n          \"Uganda\",\n          \"Zambia\"\n        ],\n        \"semantic_type\": \"\",\n        \"description\": \"\"\n      }\n    },\n    {\n      \"column\": \"Capital City\",\n      \"properties\": {\n        \"dtype\": \"string\",\n        \"num_unique_values\": 234,\n        \"samples\": [\n          \"Asmara\",\n          \"Krung Thep (Bangkok)\",\n          \"San Marino\"\n        ],\n        \"semantic_type\": \"\",\n        \"description\": \"\"\n      }\n    },\n    {\n      \"column\": \"Latitude\",\n      \"properties\": {\n        \"dtype\": \"number\",\n        \"std\": 24.591546213246236,\n        \"min\": -51.7012,\n        \"max\": 64.1835,\n        \"num_unique_values\": 234,\n        \"samples\": [\n          15.3333,\n          13.722,\n          43.9333\n        ],\n        \"semantic_type\": \"\",\n        \"description\": \"\"\n      }\n    },\n    {\n      \"column\": \"Longitude\",\n      \"properties\": {\n        \"dtype\": \"number\",\n        \"std\": 73.36461617186535,\n        \"min\": -176.1745,\n        \"max\": 179.1991,\n        \"num_unique_values\": 234,\n        \"samples\": [\n          38.9333,\n          100.5252,\n          12.45\n        ],\n        \"semantic_type\": \"\",\n        \"description\": \"\"\n      }\n    },\n    {\n      \"column\": \"Population\",\n      \"properties\": {\n        \"dtype\": \"number\",\n        \"std\": 4629054,\n        \"min\": 0,\n        \"max\": 37468302,\n        \"num_unique_values\": 234,\n        \"samples\": [\n          895863,\n          10156316,\n          4465\n        ],\n        \"semantic_type\": \"\",\n        \"description\": \"\"\n      }\n    },\n    {\n      \"column\": \"Capital Type\",\n      \"properties\": {\n        \"dtype\": \"category\",\n        \"num_unique_values\": 6,\n        \"samples\": [\n          \"Capital\",\n          \"Economic Capital\",\n          \"Legislative Capital\"\n        ],\n        \"semantic_type\": \"\",\n        \"description\": \"\"\n      }\n    }\n  ]\n}"
            }
          },
          "metadata": {},
          "execution_count": 68
        }
      ],
      "source": [
        "import pandas as pd\n",
        "\n",
        "capitals= pd.read_csv(\"country-capital-lat-long-population.csv\")\n",
        "capitals.head()"
      ]
    },
    {
      "cell_type": "code",
      "source": [
        "import pandas as pd\n",
        "\n",
        "url = \"country-capital-lat-long-population.csv\"\n",
        "df = pd.read_csv(url)  # Corrected to read CSV\n",
        "df.head()\n"
      ],
      "metadata": {
        "colab": {
          "base_uri": "https://localhost:8080/",
          "height": 206
        },
        "id": "bOUcjR34fqsi",
        "outputId": "945bb925-b11d-4fc3-91a3-5cca3249de38"
      },
      "id": "bOUcjR34fqsi",
      "execution_count": 69,
      "outputs": [
        {
          "output_type": "execute_result",
          "data": {
            "text/plain": [
              "          Country           Capital City  Latitude  Longitude  Population  \\\n",
              "0     Afghanistan                  Kabul   34.5289    69.1725     4011770   \n",
              "1         Albania        Tiranë (Tirana)   41.3275    19.8189      475577   \n",
              "2         Algeria  El Djazaïr  (Algiers)   36.7525     3.0420     2693542   \n",
              "3  American Samoa              Pago Pago  -14.2781  -170.7025       48526   \n",
              "4         Andorra       Andorra la Vella   42.5078     1.5211       22614   \n",
              "\n",
              "  Capital Type  \n",
              "0      Capital  \n",
              "1      Capital  \n",
              "2      Capital  \n",
              "3      Capital  \n",
              "4      Capital  "
            ],
            "text/html": [
              "\n",
              "  <div id=\"df-8a7dfb84-6ac6-46fb-9295-7fc4b19f739a\" class=\"colab-df-container\">\n",
              "    <div>\n",
              "<style scoped>\n",
              "    .dataframe tbody tr th:only-of-type {\n",
              "        vertical-align: middle;\n",
              "    }\n",
              "\n",
              "    .dataframe tbody tr th {\n",
              "        vertical-align: top;\n",
              "    }\n",
              "\n",
              "    .dataframe thead th {\n",
              "        text-align: right;\n",
              "    }\n",
              "</style>\n",
              "<table border=\"1\" class=\"dataframe\">\n",
              "  <thead>\n",
              "    <tr style=\"text-align: right;\">\n",
              "      <th></th>\n",
              "      <th>Country</th>\n",
              "      <th>Capital City</th>\n",
              "      <th>Latitude</th>\n",
              "      <th>Longitude</th>\n",
              "      <th>Population</th>\n",
              "      <th>Capital Type</th>\n",
              "    </tr>\n",
              "  </thead>\n",
              "  <tbody>\n",
              "    <tr>\n",
              "      <th>0</th>\n",
              "      <td>Afghanistan</td>\n",
              "      <td>Kabul</td>\n",
              "      <td>34.5289</td>\n",
              "      <td>69.1725</td>\n",
              "      <td>4011770</td>\n",
              "      <td>Capital</td>\n",
              "    </tr>\n",
              "    <tr>\n",
              "      <th>1</th>\n",
              "      <td>Albania</td>\n",
              "      <td>Tiranë (Tirana)</td>\n",
              "      <td>41.3275</td>\n",
              "      <td>19.8189</td>\n",
              "      <td>475577</td>\n",
              "      <td>Capital</td>\n",
              "    </tr>\n",
              "    <tr>\n",
              "      <th>2</th>\n",
              "      <td>Algeria</td>\n",
              "      <td>El Djazaïr  (Algiers)</td>\n",
              "      <td>36.7525</td>\n",
              "      <td>3.0420</td>\n",
              "      <td>2693542</td>\n",
              "      <td>Capital</td>\n",
              "    </tr>\n",
              "    <tr>\n",
              "      <th>3</th>\n",
              "      <td>American Samoa</td>\n",
              "      <td>Pago Pago</td>\n",
              "      <td>-14.2781</td>\n",
              "      <td>-170.7025</td>\n",
              "      <td>48526</td>\n",
              "      <td>Capital</td>\n",
              "    </tr>\n",
              "    <tr>\n",
              "      <th>4</th>\n",
              "      <td>Andorra</td>\n",
              "      <td>Andorra la Vella</td>\n",
              "      <td>42.5078</td>\n",
              "      <td>1.5211</td>\n",
              "      <td>22614</td>\n",
              "      <td>Capital</td>\n",
              "    </tr>\n",
              "  </tbody>\n",
              "</table>\n",
              "</div>\n",
              "    <div class=\"colab-df-buttons\">\n",
              "\n",
              "  <div class=\"colab-df-container\">\n",
              "    <button class=\"colab-df-convert\" onclick=\"convertToInteractive('df-8a7dfb84-6ac6-46fb-9295-7fc4b19f739a')\"\n",
              "            title=\"Convert this dataframe to an interactive table.\"\n",
              "            style=\"display:none;\">\n",
              "\n",
              "  <svg xmlns=\"http://www.w3.org/2000/svg\" height=\"24px\" viewBox=\"0 -960 960 960\">\n",
              "    <path d=\"M120-120v-720h720v720H120Zm60-500h600v-160H180v160Zm220 220h160v-160H400v160Zm0 220h160v-160H400v160ZM180-400h160v-160H180v160Zm440 0h160v-160H620v160ZM180-180h160v-160H180v160Zm440 0h160v-160H620v160Z\"/>\n",
              "  </svg>\n",
              "    </button>\n",
              "\n",
              "  <style>\n",
              "    .colab-df-container {\n",
              "      display:flex;\n",
              "      gap: 12px;\n",
              "    }\n",
              "\n",
              "    .colab-df-convert {\n",
              "      background-color: #E8F0FE;\n",
              "      border: none;\n",
              "      border-radius: 50%;\n",
              "      cursor: pointer;\n",
              "      display: none;\n",
              "      fill: #1967D2;\n",
              "      height: 32px;\n",
              "      padding: 0 0 0 0;\n",
              "      width: 32px;\n",
              "    }\n",
              "\n",
              "    .colab-df-convert:hover {\n",
              "      background-color: #E2EBFA;\n",
              "      box-shadow: 0px 1px 2px rgba(60, 64, 67, 0.3), 0px 1px 3px 1px rgba(60, 64, 67, 0.15);\n",
              "      fill: #174EA6;\n",
              "    }\n",
              "\n",
              "    .colab-df-buttons div {\n",
              "      margin-bottom: 4px;\n",
              "    }\n",
              "\n",
              "    [theme=dark] .colab-df-convert {\n",
              "      background-color: #3B4455;\n",
              "      fill: #D2E3FC;\n",
              "    }\n",
              "\n",
              "    [theme=dark] .colab-df-convert:hover {\n",
              "      background-color: #434B5C;\n",
              "      box-shadow: 0px 1px 3px 1px rgba(0, 0, 0, 0.15);\n",
              "      filter: drop-shadow(0px 1px 2px rgba(0, 0, 0, 0.3));\n",
              "      fill: #FFFFFF;\n",
              "    }\n",
              "  </style>\n",
              "\n",
              "    <script>\n",
              "      const buttonEl =\n",
              "        document.querySelector('#df-8a7dfb84-6ac6-46fb-9295-7fc4b19f739a button.colab-df-convert');\n",
              "      buttonEl.style.display =\n",
              "        google.colab.kernel.accessAllowed ? 'block' : 'none';\n",
              "\n",
              "      async function convertToInteractive(key) {\n",
              "        const element = document.querySelector('#df-8a7dfb84-6ac6-46fb-9295-7fc4b19f739a');\n",
              "        const dataTable =\n",
              "          await google.colab.kernel.invokeFunction('convertToInteractive',\n",
              "                                                    [key], {});\n",
              "        if (!dataTable) return;\n",
              "\n",
              "        const docLinkHtml = 'Like what you see? Visit the ' +\n",
              "          '<a target=\"_blank\" href=https://colab.research.google.com/notebooks/data_table.ipynb>data table notebook</a>'\n",
              "          + ' to learn more about interactive tables.';\n",
              "        element.innerHTML = '';\n",
              "        dataTable['output_type'] = 'display_data';\n",
              "        await google.colab.output.renderOutput(dataTable, element);\n",
              "        const docLink = document.createElement('div');\n",
              "        docLink.innerHTML = docLinkHtml;\n",
              "        element.appendChild(docLink);\n",
              "      }\n",
              "    </script>\n",
              "  </div>\n",
              "\n",
              "\n",
              "<div id=\"df-a352a756-3b20-4d1c-a48c-70b1d62171ee\">\n",
              "  <button class=\"colab-df-quickchart\" onclick=\"quickchart('df-a352a756-3b20-4d1c-a48c-70b1d62171ee')\"\n",
              "            title=\"Suggest charts\"\n",
              "            style=\"display:none;\">\n",
              "\n",
              "<svg xmlns=\"http://www.w3.org/2000/svg\" height=\"24px\"viewBox=\"0 0 24 24\"\n",
              "     width=\"24px\">\n",
              "    <g>\n",
              "        <path d=\"M19 3H5c-1.1 0-2 .9-2 2v14c0 1.1.9 2 2 2h14c1.1 0 2-.9 2-2V5c0-1.1-.9-2-2-2zM9 17H7v-7h2v7zm4 0h-2V7h2v10zm4 0h-2v-4h2v4z\"/>\n",
              "    </g>\n",
              "</svg>\n",
              "  </button>\n",
              "\n",
              "<style>\n",
              "  .colab-df-quickchart {\n",
              "      --bg-color: #E8F0FE;\n",
              "      --fill-color: #1967D2;\n",
              "      --hover-bg-color: #E2EBFA;\n",
              "      --hover-fill-color: #174EA6;\n",
              "      --disabled-fill-color: #AAA;\n",
              "      --disabled-bg-color: #DDD;\n",
              "  }\n",
              "\n",
              "  [theme=dark] .colab-df-quickchart {\n",
              "      --bg-color: #3B4455;\n",
              "      --fill-color: #D2E3FC;\n",
              "      --hover-bg-color: #434B5C;\n",
              "      --hover-fill-color: #FFFFFF;\n",
              "      --disabled-bg-color: #3B4455;\n",
              "      --disabled-fill-color: #666;\n",
              "  }\n",
              "\n",
              "  .colab-df-quickchart {\n",
              "    background-color: var(--bg-color);\n",
              "    border: none;\n",
              "    border-radius: 50%;\n",
              "    cursor: pointer;\n",
              "    display: none;\n",
              "    fill: var(--fill-color);\n",
              "    height: 32px;\n",
              "    padding: 0;\n",
              "    width: 32px;\n",
              "  }\n",
              "\n",
              "  .colab-df-quickchart:hover {\n",
              "    background-color: var(--hover-bg-color);\n",
              "    box-shadow: 0 1px 2px rgba(60, 64, 67, 0.3), 0 1px 3px 1px rgba(60, 64, 67, 0.15);\n",
              "    fill: var(--button-hover-fill-color);\n",
              "  }\n",
              "\n",
              "  .colab-df-quickchart-complete:disabled,\n",
              "  .colab-df-quickchart-complete:disabled:hover {\n",
              "    background-color: var(--disabled-bg-color);\n",
              "    fill: var(--disabled-fill-color);\n",
              "    box-shadow: none;\n",
              "  }\n",
              "\n",
              "  .colab-df-spinner {\n",
              "    border: 2px solid var(--fill-color);\n",
              "    border-color: transparent;\n",
              "    border-bottom-color: var(--fill-color);\n",
              "    animation:\n",
              "      spin 1s steps(1) infinite;\n",
              "  }\n",
              "\n",
              "  @keyframes spin {\n",
              "    0% {\n",
              "      border-color: transparent;\n",
              "      border-bottom-color: var(--fill-color);\n",
              "      border-left-color: var(--fill-color);\n",
              "    }\n",
              "    20% {\n",
              "      border-color: transparent;\n",
              "      border-left-color: var(--fill-color);\n",
              "      border-top-color: var(--fill-color);\n",
              "    }\n",
              "    30% {\n",
              "      border-color: transparent;\n",
              "      border-left-color: var(--fill-color);\n",
              "      border-top-color: var(--fill-color);\n",
              "      border-right-color: var(--fill-color);\n",
              "    }\n",
              "    40% {\n",
              "      border-color: transparent;\n",
              "      border-right-color: var(--fill-color);\n",
              "      border-top-color: var(--fill-color);\n",
              "    }\n",
              "    60% {\n",
              "      border-color: transparent;\n",
              "      border-right-color: var(--fill-color);\n",
              "    }\n",
              "    80% {\n",
              "      border-color: transparent;\n",
              "      border-right-color: var(--fill-color);\n",
              "      border-bottom-color: var(--fill-color);\n",
              "    }\n",
              "    90% {\n",
              "      border-color: transparent;\n",
              "      border-bottom-color: var(--fill-color);\n",
              "    }\n",
              "  }\n",
              "</style>\n",
              "\n",
              "  <script>\n",
              "    async function quickchart(key) {\n",
              "      const quickchartButtonEl =\n",
              "        document.querySelector('#' + key + ' button');\n",
              "      quickchartButtonEl.disabled = true;  // To prevent multiple clicks.\n",
              "      quickchartButtonEl.classList.add('colab-df-spinner');\n",
              "      try {\n",
              "        const charts = await google.colab.kernel.invokeFunction(\n",
              "            'suggestCharts', [key], {});\n",
              "      } catch (error) {\n",
              "        console.error('Error during call to suggestCharts:', error);\n",
              "      }\n",
              "      quickchartButtonEl.classList.remove('colab-df-spinner');\n",
              "      quickchartButtonEl.classList.add('colab-df-quickchart-complete');\n",
              "    }\n",
              "    (() => {\n",
              "      let quickchartButtonEl =\n",
              "        document.querySelector('#df-a352a756-3b20-4d1c-a48c-70b1d62171ee button');\n",
              "      quickchartButtonEl.style.display =\n",
              "        google.colab.kernel.accessAllowed ? 'block' : 'none';\n",
              "    })();\n",
              "  </script>\n",
              "</div>\n",
              "\n",
              "    </div>\n",
              "  </div>\n"
            ],
            "application/vnd.google.colaboratory.intrinsic+json": {
              "type": "dataframe",
              "variable_name": "df",
              "summary": "{\n  \"name\": \"df\",\n  \"rows\": 234,\n  \"fields\": [\n    {\n      \"column\": \"Country\",\n      \"properties\": {\n        \"dtype\": \"string\",\n        \"num_unique_values\": 233,\n        \"samples\": [\n          \"Greece\",\n          \"Uganda\",\n          \"Zambia\"\n        ],\n        \"semantic_type\": \"\",\n        \"description\": \"\"\n      }\n    },\n    {\n      \"column\": \"Capital City\",\n      \"properties\": {\n        \"dtype\": \"string\",\n        \"num_unique_values\": 234,\n        \"samples\": [\n          \"Asmara\",\n          \"Krung Thep (Bangkok)\",\n          \"San Marino\"\n        ],\n        \"semantic_type\": \"\",\n        \"description\": \"\"\n      }\n    },\n    {\n      \"column\": \"Latitude\",\n      \"properties\": {\n        \"dtype\": \"number\",\n        \"std\": 24.591546213246236,\n        \"min\": -51.7012,\n        \"max\": 64.1835,\n        \"num_unique_values\": 234,\n        \"samples\": [\n          15.3333,\n          13.722,\n          43.9333\n        ],\n        \"semantic_type\": \"\",\n        \"description\": \"\"\n      }\n    },\n    {\n      \"column\": \"Longitude\",\n      \"properties\": {\n        \"dtype\": \"number\",\n        \"std\": 73.36461617186535,\n        \"min\": -176.1745,\n        \"max\": 179.1991,\n        \"num_unique_values\": 234,\n        \"samples\": [\n          38.9333,\n          100.5252,\n          12.45\n        ],\n        \"semantic_type\": \"\",\n        \"description\": \"\"\n      }\n    },\n    {\n      \"column\": \"Population\",\n      \"properties\": {\n        \"dtype\": \"number\",\n        \"std\": 4629054,\n        \"min\": 0,\n        \"max\": 37468302,\n        \"num_unique_values\": 234,\n        \"samples\": [\n          895863,\n          10156316,\n          4465\n        ],\n        \"semantic_type\": \"\",\n        \"description\": \"\"\n      }\n    },\n    {\n      \"column\": \"Capital Type\",\n      \"properties\": {\n        \"dtype\": \"category\",\n        \"num_unique_values\": 6,\n        \"samples\": [\n          \"Capital\",\n          \"Economic Capital\",\n          \"Legislative Capital\"\n        ],\n        \"semantic_type\": \"\",\n        \"description\": \"\"\n      }\n    }\n  ]\n}"
            }
          },
          "metadata": {},
          "execution_count": 69
        }
      ]
    },
    {
      "cell_type": "code",
      "source": [
        "#2 Convert the DataFrame to a NumPy array\n",
        "numpy_array = df.to_numpy()\n",
        "numpy_array"
      ],
      "metadata": {
        "colab": {
          "base_uri": "https://localhost:8080/"
        },
        "id": "oAMqZygLgRNx",
        "outputId": "251eb32a-7926-46de-deff-b53596c51ce4"
      },
      "id": "oAMqZygLgRNx",
      "execution_count": 70,
      "outputs": [
        {
          "output_type": "execute_result",
          "data": {
            "text/plain": [
              "array([['Afghanistan', 'Kabul', 34.5289, 69.1725, 4011770, 'Capital'],\n",
              "       ['Albania', 'Tiranë (Tirana)', 41.3275, 19.8189, 475577,\n",
              "        'Capital'],\n",
              "       ['Algeria', 'El Djazaïr  (Algiers)', 36.7525, 3.042, 2693542,\n",
              "        'Capital'],\n",
              "       ...,\n",
              "       ['Yemen', \"Sana'a'\", 15.3531, 44.2078, 2779317, 'Capital'],\n",
              "       ['Zambia', 'Lusaka', -15.4134, 28.2771, 2523844, 'Capital'],\n",
              "       ['Zimbabwe', 'Harare', -17.8294, 31.0539, 1515016, 'Capital']],\n",
              "      dtype=object)"
            ]
          },
          "metadata": {},
          "execution_count": 70
        }
      ]
    },
    {
      "cell_type": "code",
      "source": [
        "import pandas as pd\n",
        "import numpy as np\n",
        "\n",
        "# Load the data\n",
        "url = \"country-capital-lat-long-population.csv\"\n",
        "df = pd.read_csv(url)"
      ],
      "metadata": {
        "id": "xaail5U0h5b1"
      },
      "id": "xaail5U0h5b1",
      "execution_count": 71,
      "outputs": []
    },
    {
      "cell_type": "code",
      "source": [
        "riyadh_coords = df.loc[df['Country'] == 'Saudi Arabia', ['Latitude', 'Longitude']].values[0]\n",
        "\n",
        "# Remove Riyadh from the dataframe 'no not print it as the closest one to itself'\n",
        "df_filtered = df[df['Country'] != 'Saudi Arabia']\n",
        "\n",
        "# Extract the coordinates of all other capitals\n",
        "other_coords = df_filtered[['Latitude', 'Longitude']].to_numpy()"
      ],
      "metadata": {
        "id": "2FZpHvGciGu2"
      },
      "id": "2FZpHvGciGu2",
      "execution_count": 72,
      "outputs": []
    },
    {
      "cell_type": "code",
      "source": [
        "# Use broadcasting to compute the Euclidean distance from Riyadh to each capital city\n",
        "distances = np.sqrt((other_coords[:, 0] - riyadh_coords[0])**2 + (other_coords[:, 1] - riyadh_coords[1])**2)\n",
        "\n",
        "df_filtered['Distance from Riyadh'] = distances"
      ],
      "metadata": {
        "colab": {
          "base_uri": "https://localhost:8080/"
        },
        "id": "BH3_gOcHiJJA",
        "outputId": "4a8572f4-978a-4816-888d-949d43dae4be"
      },
      "id": "BH3_gOcHiJJA",
      "execution_count": 73,
      "outputs": [
        {
          "output_type": "stream",
          "name": "stderr",
          "text": [
            "<ipython-input-73-58b6f2288fbb>:4: SettingWithCopyWarning: \n",
            "A value is trying to be set on a copy of a slice from a DataFrame.\n",
            "Try using .loc[row_indexer,col_indexer] = value instead\n",
            "\n",
            "See the caveats in the documentation: https://pandas.pydata.org/pandas-docs/stable/user_guide/indexing.html#returning-a-view-versus-a-copy\n",
            "  df_filtered['Distance from Riyadh'] = distances\n"
          ]
        }
      ]
    },
    {
      "cell_type": "code",
      "source": [
        "# Find the closest capital city\n",
        "closest_city_idx = np.argmin(distances)\n",
        "closest_city = df_filtered.iloc[closest_city_idx]['Capital City']  # Get the capital name of the closest city\n",
        "closest_distance = distances[closest_city_idx]\n",
        "\n",
        "print(f\"The closest capital city to Riyadh is {closest_city} with a distance of {closest_distance:.2f}.\")\n"
      ],
      "metadata": {
        "colab": {
          "base_uri": "https://localhost:8080/"
        },
        "id": "Y0y-jfhriN5z",
        "outputId": "758dde09-dcd1-4fc8-c660-4cc8fd1bbee0"
      },
      "id": "Y0y-jfhriN5z",
      "execution_count": 74,
      "outputs": [
        {
          "output_type": "stream",
          "name": "stdout",
          "text": [
            "The closest capital city to Riyadh is Al-Manamah (Manama) with a distance of 4.16.\n"
          ]
        }
      ]
    },
    {
      "cell_type": "markdown",
      "id": "1fdbec05",
      "metadata": {
        "id": "1fdbec05"
      },
      "source": [
        "#### Practical Exercise 2\n",
        "\n",
        "Use NumPy to:\n",
        "\n",
        "1. Print the names of the countries of the top 10 capital cities closest to the US capital - Washington DC.\n",
        "\n",
        "2. Create and print a NumPy array containing the coordinates of the top 10 cities."
      ]
    },
    {
      "cell_type": "code",
      "source": [
        "washington_coords = df.loc[df['Capital City'] == 'Washington, D.C.', ['Latitude', 'Longitude']].values[0]\n",
        "\n",
        "df_filtered = df[df['Capital City'] != 'Washington, D.C.']\n",
        "\n",
        "other_coords = df_filtered[['Latitude', 'Longitude']].to_numpy()\n",
        "\n",
        "distances = np.sqrt((other_coords[:, 0] - washington_coords[0])**2 + (other_coords[:, 1] - washington_coords[1])**2)\n",
        "\n",
        "df_filtered['Distance from Washington D.C.'] = distances\n",
        "\n",
        "top_10_closest = df_filtered.nsmallest(10, 'Distance from Washington D.C.')\n",
        "\n",
        "#top 10 closest capitals\n",
        "print(\"The 10 closest capital cities to Washington D.C. are in the following countries:\")\n",
        "print(top_10_closest['Country'].to_list())\n",
        "\n",
        "#coordinates of the top 10 closest capital cities\n",
        "top_10_coords = top_10_closest[['Latitude', 'Longitude']].to_numpy()\n",
        "print(\"\\nCoordinates of the top 10 closest capital cities:\")\n",
        "print(top_10_coords)\n"
      ],
      "metadata": {
        "colab": {
          "base_uri": "https://localhost:8080/"
        },
        "id": "n-mdIta7ikrq",
        "outputId": "6c5ea293-a705-4a50-987c-a3ea5558c639"
      },
      "id": "n-mdIta7ikrq",
      "execution_count": 87,
      "outputs": [
        {
          "output_type": "stream",
          "name": "stdout",
          "text": [
            "The 10 closest capital cities to Washington D.C. are in the following countries:\n",
            "['Canada', 'Bahamas', 'Bermuda', 'Cuba', 'Turks and Caicos Islands', 'Cayman Islands', 'Haiti', 'Jamaica', 'Dominican Republic', 'Saint Pierre and Miquelon']\n",
            "\n",
            "Coordinates of the top 10 closest capital cities:\n",
            "[[ 45.4166 -75.698 ]\n",
            " [ 25.0582 -77.3431]\n",
            " [ 32.2915 -64.778 ]\n",
            " [ 23.1195 -82.3785]\n",
            " [ 21.4612 -71.1419]\n",
            " [ 19.2866 -81.3744]\n",
            " [ 18.5392 -72.335 ]\n",
            " [ 17.997  -76.7936]\n",
            " [ 18.4896 -69.9018]\n",
            " [ 46.7738 -56.1815]]\n"
          ]
        },
        {
          "output_type": "stream",
          "name": "stderr",
          "text": [
            "<ipython-input-87-ebb5c4af91b3>:9: SettingWithCopyWarning: \n",
            "A value is trying to be set on a copy of a slice from a DataFrame.\n",
            "Try using .loc[row_indexer,col_indexer] = value instead\n",
            "\n",
            "See the caveats in the documentation: https://pandas.pydata.org/pandas-docs/stable/user_guide/indexing.html#returning-a-view-versus-a-copy\n",
            "  df_filtered['Distance from Washington D.C.'] = distances\n"
          ]
        }
      ]
    }
  ],
  "metadata": {
    "kernelspec": {
      "display_name": "Python 3 (ipykernel)",
      "language": "python",
      "name": "python3"
    },
    "language_info": {
      "codemirror_mode": {
        "name": "ipython",
        "version": 3
      },
      "file_extension": ".py",
      "mimetype": "text/x-python",
      "name": "python",
      "nbconvert_exporter": "python",
      "pygments_lexer": "ipython3",
      "version": "3.12.4"
    },
    "colab": {
      "provenance": []
    }
  },
  "nbformat": 4,
  "nbformat_minor": 5
}